{
 "cells": [
  {
   "cell_type": "code",
   "execution_count": 1,
   "metadata": {},
   "outputs": [],
   "source": [
    "import sys, os\n",
    "from sklearn.metrics import confusion_matrix\n",
    "from sklearn.metrics import classification_report\n",
    "\n",
    "import transformers\n",
    "from transformers import TFAutoModel, AutoTokenizer\n",
    "from tqdm.notebook import tqdm\n",
    "from tokenizers import Tokenizer, models, pre_tokenizers, decoders, processors\n",
    "\n",
    "import tensorflow as tf\n",
    "from tensorflow.keras.layers import Dense, Input\n",
    "from tensorflow.keras.optimizers import Adam\n",
    "from tensorflow.keras.models import Model\n",
    "from tensorflow.keras.callbacks import ModelCheckpoint\n",
    "import  matplotlib.pyplot as plt\n",
    "\n",
    "from tokenizers import BertWordPieceTokenizer"
   ]
  },
  {
   "cell_type": "code",
   "execution_count": 2,
   "metadata": {},
   "outputs": [],
   "source": [
    "def build_model(transformer, max_len=512):\n",
    "\n",
    "    input_word_ids = Input(shape=(max_len,), dtype=tf.int32, name=\"input_word_ids\")\n",
    "    sequence_output = transformer(input_word_ids)[0]\n",
    "    cls_token = sequence_output[:, 0, :]\n",
    "    out = Dense(1, activation='sigmoid')(cls_token)\n",
    "    \n",
    "    model = Model(inputs=input_word_ids, outputs=out)\n",
    "    model.compile(Adam(lr=6e-6), loss='binary_crossentropy', metrics=['accuracy','AUC'])\n",
    "    \n",
    "    return model"
   ]
  },
  {
   "cell_type": "code",
   "execution_count": 3,
   "metadata": {},
   "outputs": [
    {
     "name": "stderr",
     "output_type": "stream",
     "text": [
      "Some weights of the model checkpoint at distilbert-base-multilingual-cased were not used when initializing TFDistilBertModel: ['vocab_layer_norm', 'vocab_transform', 'vocab_projector', 'activation_13']\n",
      "- This IS expected if you are initializing TFDistilBertModel from the checkpoint of a model trained on another task or with another architecture (e.g. initializing a BertForSequenceClassification model from a BertForPretraining model).\n",
      "- This IS NOT expected if you are initializing TFDistilBertModel from the checkpoint of a model that you expect to be exactly identical (initializing a BertForSequenceClassification model from a BertForSequenceClassification model).\n",
      "All the weights of TFDistilBertModel were initialized from the model checkpoint at distilbert-base-multilingual-cased.\n",
      "If your task is similar to the task the model of the ckeckpoint was trained on, you can already use TFDistilBertModel for predictions without further training.\n"
     ]
    },
    {
     "data": {
      "text/plain": [
       "<tensorflow.python.training.tracking.util.CheckpointLoadStatus at 0x7f5c842cb580>"
      ]
     },
     "execution_count": 3,
     "metadata": {},
     "output_type": "execute_result"
    }
   ],
   "source": [
    "MAX_LEN = 192\n",
    "\n",
    "transformer_layer = (\n",
    "            transformers.TFDistilBertModel\n",
    "            .from_pretrained('distilbert-base-multilingual-cased')\n",
    "        )\n",
    "\n",
    "model = build_model(transformer_layer, max_len=MAX_LEN)\n",
    "model.load_weights('model/weights')"
   ]
  },
  {
   "cell_type": "code",
   "execution_count": 4,
   "metadata": {},
   "outputs": [],
   "source": [
    "list_of_texts = ['j aime bien','khedma k zebi','service tahfoun']"
   ]
  },
  {
   "cell_type": "code",
   "execution_count": 5,
   "metadata": {},
   "outputs": [],
   "source": [
    "import pandas as pd\n",
    "test = pd.read_csv('/home/aziz/vneuron/scrapping/googlemaps-scraper/data/scrap_test.csv')"
   ]
  },
  {
   "cell_type": "code",
   "execution_count": 6,
   "metadata": {},
   "outputs": [],
   "source": [
    "BATCH_SIZE = 32\n",
    "def create_test(x_test) :\n",
    "    test_dataset = (\n",
    "        tf.data.Dataset\n",
    "        .from_tensor_slices(x_test)\n",
    "        .batch(BATCH_SIZE)\n",
    "    )\n",
    "    return test_dataset"
   ]
  },
  {
   "cell_type": "code",
   "execution_count": 7,
   "metadata": {},
   "outputs": [],
   "source": [
    "def fast_encode(texts, tokenizer, chunk_size=256, maxlen=512):\n",
    "\n",
    "    tokenizer.enable_truncation(max_length=maxlen)\n",
    "    tokenizer.enable_padding(length=maxlen)\n",
    "    all_ids = []\n",
    "    \n",
    "    for i in tqdm(range(0, len(texts), chunk_size)):\n",
    "        text_chunk = texts[i:i+chunk_size].tolist()\n",
    "        encs = tokenizer.encode_batch(text_chunk)\n",
    "        all_ids.extend([enc.ids for enc in encs])\n",
    "    \n",
    "    return np.array(all_ids)"
   ]
  },
  {
   "cell_type": "code",
   "execution_count": 8,
   "metadata": {},
   "outputs": [],
   "source": [
    "import numpy as np\n",
    "tokenizer = transformers.DistilBertTokenizer.from_pretrained('distilbert-base-multilingual-cased')\n",
    "tokenizer.save_pretrained('.')\n",
    "    # Reload it with the huggingface tokenizers library\n",
    "fast_tokenizer = BertWordPieceTokenizer('vocab.txt', lowercase=False)\n",
    "\n",
    "\n",
    "fast_tokenizer.enable_truncation(max_length=MAX_LEN)\n",
    "fast_tokenizer.enable_padding(length=MAX_LEN)"
   ]
  },
  {
   "cell_type": "code",
   "execution_count": 9,
   "metadata": {},
   "outputs": [
    {
     "data": {
      "application/vnd.jupyter.widget-view+json": {
       "model_id": "3a4beffb4b3f494b81e6f1324d5f724a",
       "version_major": 2,
       "version_minor": 0
      },
      "text/plain": [
       "HBox(children=(FloatProgress(value=0.0, max=1.0), HTML(value='')))"
      ]
     },
     "metadata": {},
     "output_type": "display_data"
    },
    {
     "name": "stdout",
     "output_type": "stream",
     "text": [
      "\n"
     ]
    }
   ],
   "source": [
    "test_texts = fast_encode(test.caption.values.astype(str), fast_tokenizer, maxlen=MAX_LEN)\n",
    "\n",
    "test_ys = test.intent.values"
   ]
  },
  {
   "cell_type": "code",
   "execution_count": 10,
   "metadata": {},
   "outputs": [],
   "source": [
    "results = model.predict(create_test(test_texts))\n",
    "for i,result in enumerate(results) :\n",
    "    if result > 0.5 :\n",
    "        results[i] = 1\n",
    "    else :\n",
    "        results[i] = 0"
   ]
  },
  {
   "cell_type": "code",
   "execution_count": 11,
   "metadata": {},
   "outputs": [
    {
     "data": {
      "text/plain": [
       "array([[ 6,  4],\n",
       "       [28, 63]])"
      ]
     },
     "execution_count": 11,
     "metadata": {},
     "output_type": "execute_result"
    }
   ],
   "source": [
    "confusion_matrix(test_ys, results)"
   ]
  },
  {
   "cell_type": "code",
   "execution_count": 12,
   "metadata": {},
   "outputs": [
    {
     "name": "stdout",
     "output_type": "stream",
     "text": [
      "              precision    recall  f1-score   support\n",
      "\n",
      "           0       0.18      0.60      0.27        10\n",
      "           1       0.94      0.69      0.80        91\n",
      "\n",
      "    accuracy                           0.68       101\n",
      "   macro avg       0.56      0.65      0.54       101\n",
      "weighted avg       0.86      0.68      0.75       101\n",
      "\n"
     ]
    }
   ],
   "source": [
    "print(classification_report(test_ys, results))"
   ]
  },
  {
   "cell_type": "code",
   "execution_count": 13,
   "metadata": {},
   "outputs": [
    {
     "name": "stdout",
     "output_type": "stream",
     "text": [
      " شركة رائعة! ترحب استثنائية! انتم الافضل   Superbe société ! accueille extraordinaire ! vous êtes les meilleurs\n",
      " شركة رائعة! ترحب استثنائية! انتم الافضل   Superbe société ! accueille extraordinaire ! vous êtes les meilleurs\n",
      " شركة رائعة! ترحب استثنائية! انتم الافضل   Superbe société ! accueille extraordinaire ! vous êtes les meilleurs\n",
      " Supebe شركة غير عادية المنزل! انتم الافضل   Supebe société accueil extraordinaire!!! vous êtes les meilleurs\n",
      " ترحاب للغاية ، اختيار جيد من الأطباق. بلح البحر جيدة جدا!   Très bon accueil, un bon choix de plats. Très bonne moules!\n",
      "ممتاااااااااز ونظيف ولذيذ وسعر رخيص جدا جدا جدا\n",
      " لزيارة ولكن الخدمة التي سيتم ترقيتها   A visiter mais service a remettre à niveau\n",
      " مرحاض قذر   Toilette sale\n",
      " جيد   Good\n",
      " المكان المناسب إذا كنت تحب المأكولات البحرية ، ولا سيما بلح البحر! انهم يعرفون فقط كيفية صنعها! :) الداخلية / الديكور هي أيضا جميلة وفريدة من نوعها. يمكنك إجراء حجز أو مجرد الذهاب إلى المكان. أنني حجزت طاولة مع زملائي وأحببناها جميعًا. الموظفين أيضا الودية والرعاية. شكرا لك \"لا كوكوت\" :)   The place to be if you like seafood, especially mussels! They just know how to make them! :) The interior/decoration is also pretty and and unique. You can make a reservation or just go on the spot. I booked a table with my colleagues and we all loved it. Staff is also friendly and caring. Thank you \"La Cocotte\" :)\n",
      " مالك ودود للغاية وترحاب   Propriétaire tres sympa et accueillant\n",
      " بلح البحر لذيذ   Delicious mussels\n",
      " الذهاب دون تردد !! أفضل بلح البحر لقد ذاقت في حياتي. خدمة نظيفة مهذب وسريع. معكرونة لذيذ جدا. باختصار سأعود بلا شك.   Allez sans hésitation !! Les meilleurs moules que j'ai goûté de ma vie. Service propre courtois et rapide. Les spaghettis sont yummyy aussi. Bref j'y retournerai sans doute.\n",
      " مكان هادئ جدا وجيد جدا   Endroit très calme et très bon\n",
      " خدمة مطعم Nulllllllllll بطيئة جدًا وبنفس الميزانية التي يمكنك تناولها بشكل أفضل في المطاعم الأخرى 😡😡🤬🤬   Restaurant nullllllllll service trés lent avec le même budget on peut manger mieux chez d'autres restaurants 😡😡🤬🤬\n",
      " لذيذ   Délicieux\n",
      " كان جيدًا ولكن لا يجب أن يكون لديك ذئب جائع   C'était bon mais il fallait pas avoir une faim de loup 😋\n",
      " إنه مكان أنيق للغاية من نمط مختلف ، حيث تعتمد هذه الأطباق على بلح البحر مع طعم استثنائي ، وهو مكان لذيذ موصى به للعائلة أو للزوجين.   C est un endroit tres chic de style différent ces plats sont basé sur les moules avec une gout exceptionnel .tres délicieux un lieu recommandé pour la famille ou pour les couple\n",
      " حاولت البايلا هناك ، لم يكن كبيرا مقارنة بالسعر ، ولم يكن ذلك العذبة   I tried the paella there , it wasnt that great compared to the price, and wasnt that fresh\n",
      " ليس سيئا . أي شيء من اليوم   Pas mal . Tout dépand de la journée\n",
      " أطباق لذيذة جدا لدينا سعر طبق خزفي من بلح البحر مع كريم ج جيد جدا و paillela جيدة فقط الأرز قليلا الصعب   Des Plats très délicieux on a prix une cocotte de moules à la crème c très bon ainsi qu'une bonne paillela juste les rizs un peu dur\n",
      " أنها لذيذة   C'est délicieux\n",
      " خدمة سيئة ، بطيئة ، غير محترفة ، طعام غير طازج ، ليس هناك خيار كبير من 21 ساعة ، يغلق المطبخ في وقت مبكر حتى ليلة السبت ... أعطي نجمة لأن جوجل لا تعطي الفرصة لتقديم 0.   Service médiocre, lent, non professionnel, bouffe pas vraiment fraîche, il ne reste pas beaucoup de choix dès 21h , la cuisine ferme tôt même le samedi soir... je donne une étoile parce que Google ne donne pas la possibilité de donner 0.\n",
      " لمحبي بلح البحر ، انها عصاري. مطعم جيد جدا مع خدمة سريعة. حاولنا خزفي بلح البحر مع صلصة بيضاء وجملون بارما. والطاجون الاسباني آخر (صلصة حمراء قليلا حار). كلاهما جيد جدا.   Pour les amateurs de moules, c'est succulent. Très bonne restauration avec un service rapide.  On a essayé cocotte de moules sauce blanche avec parmesan pignon. Et une autre cocotte façon espagnole (sauce rouge un peu piquante). Les deux très bonnes.\n",
      " أحيانا هناك قالب غير مفرط طازج ، كان عسر الهضم مرة واحدة بعد ثلاثة أيام من تناول الطعام هناك لذلك لا أستطيع أن أقول أنهم كانوا السبب. ولكن أيضا مرة واحدة تقيأت زميلي كل ليلة بعد الوجبة في المنزل ...   des fois il y une moule qui n'est pas hyper fraîche, j'ai eu une fois une indigestion trois jours après y avoir mangé donc je ne peux pas affirmer qu'ils en étaient la cause. mais aussi une fois mon collègue à vomi toute la nuit suite au repas chez eux...\n",
      " إذا كنت تحب بلح البحر والبطاطا المقلية ؛)   Si tu aime les moules et les frites ;)\n",
      " أخصائي بلح البحر والمأكولات البحرية   Spécialiste de moules et de fruits de mer\n",
      " طعام لذيذ.   Delicious food.\n",
      " لا كما هو متوقع !   Not as expected !\n",
      " غالي جدا   Trop cher\n",
      " القوالب جيدة لجميع الأذواق ، وعليهم العمل على جودة الخدمات!   Les moules sont bonnes pour tous les goûts, ils doivent travailler sur la qualité de services !\n",
      " لقد حظيت بشرف أن أكون بين الطلاب الأول ، منذ الافتتاح في سبتمبر 1976. قضيت 4 سنوات وحصلت على تقنية البكالوريا في حزيران 1979 ، احتفظ بذكريات جميلة. مستوى التعليم والانضباط والنظافة والحيوية.   J'ai eu le privilège d'être parmi les 1er élèves, dès l'inauguration en septembre 1976. J'ai passé 4 ans et eu mon Bac Math-technique en juin 1979, Je garde de beaux souvenirs.  Niveau d'instruction, discipline, propreté et joie de vivre.\n"
     ]
    }
   ],
   "source": [
    "for i in range(len(test_ys)) :\n",
    "    if test_ys[i] != results[i] :\n",
    "        print(test['caption'][i])"
   ]
  },
  {
   "cell_type": "code",
   "execution_count": null,
   "metadata": {},
   "outputs": [],
   "source": []
  }
 ],
 "metadata": {
  "kernelspec": {
   "display_name": "Python 3",
   "language": "python",
   "name": "python3"
  },
  "language_info": {
   "codemirror_mode": {
    "name": "ipython",
    "version": 3
   },
   "file_extension": ".py",
   "mimetype": "text/x-python",
   "name": "python",
   "nbconvert_exporter": "python",
   "pygments_lexer": "ipython3",
   "version": "3.8.3"
  }
 },
 "nbformat": 4,
 "nbformat_minor": 4
}
